{
  "nbformat": 4,
  "nbformat_minor": 0,
  "metadata": {
    "colab": {
      "provenance": [],
      "authorship_tag": "ABX9TyPbOfohQqxgmGhygfzww5Lg",
      "include_colab_link": true
    },
    "kernelspec": {
      "name": "python3",
      "display_name": "Python 3"
    },
    "language_info": {
      "name": "python"
    }
  },
  "cells": [
    {
      "cell_type": "markdown",
      "metadata": {
        "id": "view-in-github",
        "colab_type": "text"
      },
      "source": [
        "<a href=\"https://colab.research.google.com/github/yolanda-ortiz/Projeto-Alura-Google/blob/main/Projeto_Alura_%2B_Google.ipynb\" target=\"_parent\"><img src=\"https://colab.research.google.com/assets/colab-badge.svg\" alt=\"Open In Colab\"/></a>"
      ]
    },
    {
      "cell_type": "code",
      "execution_count": 13,
      "metadata": {
        "colab": {
          "base_uri": "https://localhost:8080/",
          "height": 454
        },
        "id": "hEOquAFjIpv8",
        "outputId": "fec61854-fb86-4987-f005-ec8bb3049797"
      },
      "outputs": [
        {
          "output_type": "stream",
          "name": "stdout",
          "text": [
            "Requirement already satisfied: beautifulsoup4 in /usr/local/lib/python3.10/dist-packages (4.12.3)\n",
            "Requirement already satisfied: requests in /usr/local/lib/python3.10/dist-packages (2.31.0)\n",
            "Requirement already satisfied: soupsieve>1.2 in /usr/local/lib/python3.10/dist-packages (from beautifulsoup4) (2.5)\n",
            "Requirement already satisfied: charset-normalizer<4,>=2 in /usr/local/lib/python3.10/dist-packages (from requests) (3.3.2)\n",
            "Requirement already satisfied: idna<4,>=2.5 in /usr/local/lib/python3.10/dist-packages (from requests) (3.7)\n",
            "Requirement already satisfied: urllib3<3,>=1.21.1 in /usr/local/lib/python3.10/dist-packages (from requests) (2.0.7)\n",
            "Requirement already satisfied: certifi>=2017.4.17 in /usr/local/lib/python3.10/dist-packages (from requests) (2024.2.2)\n",
            "Chatbot de Legislação Brasileira\n",
            "Digite sua pergunta sobre legislação brasileira: adoção de menor de idade\n",
            "Resposta: **Legislação Relacionada à Adoção de Menores de Idade no Brasil:**\n",
            "\n",
            "* **Lei nº 8.069, de 13 de julho de 1990 (Estatuto da Criança e do Adolescente):**\n",
            "    * Estabelece os princípios e diretrizes para a adoção de menores de idade no Brasil.\n",
            "    * Define os requisitos para os adotantes e para a criança ou adolescente a ser adotado.\n",
            "    * Estabelece o processo de adoção, incluindo a habilitação dos adotantes, o estudo social e o acompanhamento pós-adoção.\n",
            "\n",
            "* **Lei nº 13.509, de 22 de novembro de 2017 (Lei da Adoção):**\n",
            "    * Altera o Estatuto da Criança e do Adolescente para agilizar e desburocratizar o processo de adoção.\n",
            "    * Cria o Cadastro Nacional de Adoção, que centraliza as informações sobre crianças e adolescentes disponíveis para adoção e as famílias habilitadas para adotar.\n",
            "    * Estabelece prazos mais curtos para a conclusão do processo de adoção. \n",
            "\n",
            "\n",
            "Deseja fazer outra pergunta? (s/n): n\n",
            "Obrigado por usar o Chatbot de Legislação Brasileira!\n"
          ]
        }
      ],
      "source": [
        "# Instalando o SDK do Google!\n",
        "!pip install -q -U google-generativeai\n",
        "!pip install beautifulsoup4 requests\n",
        "\n",
        "# Configurações iniciais\n",
        "import google.generativeai as genai\n",
        "import requests\n",
        "from bs4 import BeautifulSoup\n",
        "from google.colab import userdata\n",
        "api_key = userdata.get(\"SECRET_KEY\")\n",
        "\n",
        "genai.configure(api_key=api_key)\n",
        "\n",
        "# Função para buscar legislação\n",
        "def buscar_legislacao(query):\n",
        "  url = f\"https://www.google.com/search?q={query}+legislação+brasil\"\n",
        "  response = requests.get(url)\n",
        "  soup = BeautifulSoup(response.text, 'html.parser')\n",
        "  links = soup.find_all('a', href=True)\n",
        "  resultados = []\n",
        "  for link in links:\n",
        "    if 'planalto.gov.br' in link['href']:\n",
        "      resultados.append(link['href'])\n",
        "  return resultados\n",
        "\n",
        "# Configurações do modelo\n",
        "generation_config = {\n",
        "  \"candidate_count\": 1,\n",
        "  \"temperature\": 0.5,\n",
        "}\n",
        "safety_settings={\n",
        "  'HATE': 'BLOCK_NONE',\n",
        "  'HARASSMENT': 'BLOCK_NONE',\n",
        "  'SEXUAL' : 'BLOCK_NONE',\n",
        "  'DANGEROUS' : 'BLOCK_NONE'\n",
        "}\n",
        "model = genai.GenerativeModel(model_name='gemini-1.0-pro',\n",
        "                              generation_config=generation_config,\n",
        "                              safety_settings=safety_settings)\n",
        "\n",
        "chat = model.start_chat(history=[])\n",
        "\n",
        "# Loop principal do chatbot\n",
        "print(\"Chatbot de Legislação Brasileira\")\n",
        "continuar = True\n",
        "while continuar:\n",
        "  prompt = input('Digite sua pergunta sobre legislação brasileira: ')\n",
        "  if prompt.lower() == \"fim\":\n",
        "    break  # Sai do loop se o usuário digitar \"fim\"\n",
        "\n",
        "  # Busca por leis relacionadas\n",
        "  resultados_legislacao = buscar_legislacao(prompt)\n",
        "\n",
        "  # Construindo o prompt com contexto da legislação\n",
        "  prompt_completo = f\"\"\"\n",
        "  Usuário: {prompt}\n",
        "  Legislação relacionada: {resultados_legislacao}\n",
        "  \"\"\"\n",
        "\n",
        "  response = chat.send_message(prompt_completo)\n",
        "  print(\"Resposta:\", response.text, '\\n\\n')\n",
        "\n",
        "  # Pergunta ao usuário se deseja fazer outra pergunta\n",
        "  resposta_usuario = input(\"Deseja fazer outra pergunta? (s/n): \")\n",
        "  if resposta_usuario.lower() != 's':\n",
        "    continuar = False  # Sai do loop se o usuário digitar algo diferente de \"s\"\n",
        "\n",
        "print(\"Obrigado por usar o Chatbot de Legislação Brasileira!\")"
      ]
    }
  ]
}